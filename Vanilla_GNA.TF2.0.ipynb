{
  "nbformat": 4,
  "nbformat_minor": 0,
  "metadata": {
    "colab": {
      "name": "Untitled1.ipynb",
      "provenance": [],
      "authorship_tag": "ABX9TyO2yEH4q5+X4u0LTXf0RyGp",
      "include_colab_link": true
    },
    "kernelspec": {
      "name": "python3",
      "display_name": "Python 3"
    }
  },
  "cells": [
    {
      "cell_type": "markdown",
      "metadata": {
        "id": "view-in-github",
        "colab_type": "text"
      },
      "source": [
        "<a href=\"https://colab.research.google.com/github/Kaarimu/Numpy-CNN/blob/master/Vanilla_GNA.TF2.0.ipynb\" target=\"_parent\"><img src=\"https://colab.research.google.com/assets/colab-badge.svg\" alt=\"Open In Colab\"/></a>"
      ]
    },
    {
      "cell_type": "code",
      "metadata": {
        "id": "86GXXPZ5Y5qj"
      },
      "source": [
        ""
      ],
      "execution_count": null,
      "outputs": []
    },
    {
      "cell_type": "code",
      "metadata": {
        "colab": {
          "base_uri": "https://localhost:8080/"
        },
        "id": "SGXp__IhZL5g",
        "outputId": "5aa0d817-419b-4f1c-c642-9c5346de0ae0"
      },
      "source": [
        "import tensorflow as tf\n",
        "import glob\n",
        "import imageio\n",
        "import matplotlib.pyplot as plt\n",
        "import numpy as np\n",
        "import os\n",
        "import PIL\n",
        "from tensorflow.keras import layers\n",
        "import time\n",
        "\n",
        "from IPython import display\n",
        "(train_images, train_labels), (_, _) = tf.keras.datasets.mnist.load_data()"
      ],
      "execution_count": 1,
      "outputs": [
        {
          "output_type": "stream",
          "text": [
            "Downloading data from https://storage.googleapis.com/tensorflow/tf-keras-datasets/mnist.npz\n",
            "11493376/11490434 [==============================] - 0s 0us/step\n"
          ],
          "name": "stdout"
        }
      ]
    },
    {
      "cell_type": "code",
      "metadata": {
        "id": "qej57ZB25_Eg"
      },
      "source": [
        "train_images = train_images.reshape(train_images.shape[0], 28, 28, 1).astype('float32')\r\n",
        "train_images = (train_images - 127.5) / 127.5 # Normalize the images to [-1, 1]"
      ],
      "execution_count": 3,
      "outputs": []
    },
    {
      "cell_type": "code",
      "metadata": {
        "id": "4-u6l4TY6IeP"
      },
      "source": [
        "BUFFER_SIZE = 60000\r\n",
        "BATCH_SIZE = 256\r\n",
        "# Batch and shuffle the data\r\n",
        "train_dataset = tf.data.Dataset.from_tensor_slices(train_images).shuffle(BUFFER_SIZE).batch(BATCH_SIZE)"
      ],
      "execution_count": 4,
      "outputs": []
    },
    {
      "cell_type": "code",
      "metadata": {
        "id": "7IqtnMG36SbD"
      },
      "source": [
        "def make_generator_model():\r\n",
        "    model = tf.keras.Sequential()\r\n",
        "    model.add(layers.Dense(7*7*256, use_bias=False, input_shape=(100,)))\r\n",
        "    model.add(layers.BatchNormalization())\r\n",
        "    model.add(layers.LeakyReLU())\r\n",
        "\r\n",
        "    model.add(layers.Reshape((7, 7, 256)))\r\n",
        "    assert model.output_shape == (None, 7, 7, 256) # Note: None is the batch size\r\n",
        "\r\n",
        "    model.add(layers.Conv2DTranspose(128, (5, 5), strides=(1, 1), padding='same', use_bias=False))\r\n",
        "    assert model.output_shape == (None, 7, 7, 128)\r\n",
        "    model.add(layers.BatchNormalization())\r\n",
        "    model.add(layers.LeakyReLU())\r\n",
        "\r\n",
        "    model.add(layers.Conv2DTranspose(64, (5, 5), strides=(2, 2), padding='same', use_bias=False))\r\n",
        "    assert model.output_shape == (None, 14, 14, 64)\r\n",
        "    model.add(layers.BatchNormalization())\r\n",
        "    model.add(layers.LeakyReLU())\r\n",
        "\r\n",
        "    model.add(layers.Conv2DTranspose(1, (5, 5), strides=(2, 2), padding='same', use_bias=False, activation='tanh'))\r\n",
        "    assert model.output_shape == (None, 28, 28, 1)\r\n",
        "\r\n",
        "    return model\r\n",
        "generator = make_generator_model()"
      ],
      "execution_count": 5,
      "outputs": []
    },
    {
      "cell_type": "code",
      "metadata": {
        "id": "YPS9_u0w6jyq"
      },
      "source": [
        "def make_discriminator_model():\r\n",
        "    model = tf.keras.Sequential()\r\n",
        "    model.add(layers.Conv2D(64, (5, 5), strides=(2, 2), padding='same',\r\n",
        "                                     input_shape=[28, 28, 1]))\r\n",
        "    model.add(layers.LeakyReLU())\r\n",
        "    model.add(layers.Dropout(0.3))\r\n",
        "\r\n",
        "    model.add(layers.Conv2D(128, (5, 5), strides=(2, 2), padding='same'))\r\n",
        "    model.add(layers.LeakyReLU())\r\n",
        "    model.add(layers.Dropout(0.3))\r\n",
        "\r\n",
        "    model.add(layers.Flatten())\r\n",
        "    model.add(layers.Dense(1))\r\n",
        "\r\n",
        "    return model"
      ],
      "execution_count": 6,
      "outputs": []
    },
    {
      "cell_type": "code",
      "metadata": {
        "id": "fO_MfhsO6sS4"
      },
      "source": [
        "discriminator = make_discriminator_model()\r\n",
        "# This method returns a helper function to compute cross entropy loss\r\n",
        "cross_entropy = tf.keras.losses.BinaryCrossentropy(from_logits=True)\r\n",
        "def discriminator_loss(real_output, fake_output):\r\n",
        "    real_loss = cross_entropy(tf.ones_like(real_output), real_output)\r\n",
        "    fake_loss = cross_entropy(tf.zeros_like(fake_output), fake_output)\r\n",
        "    total_loss = real_loss + fake_loss\r\n",
        "    return total_loss\r\n",
        "def generator_loss(fake_output):\r\n",
        "    return cross_entropy(tf.ones_like(fake_output), fake_output)\r\n",
        "generator_optimizer = tf.keras.optimizers.Adam(1e-4)\r\n",
        "discriminator_optimizer = tf.keras.optimizers.Adam(1e-4)\r\n",
        "checkpoint_dir = './training_checkpoints'\r\n",
        "checkpoint_prefix = os.path.join(checkpoint_dir, \"ckpt\")\r\n",
        "checkpoint = tf.train.Checkpoint(generator_optimizer=generator_optimizer,\r\n",
        "                                 discriminator_optimizer=discriminator_optimizer,\r\n",
        "                                 generator=generator,\r\n",
        "                                 discriminator=discriminator)"
      ],
      "execution_count": 7,
      "outputs": []
    },
    {
      "cell_type": "code",
      "metadata": {
        "colab": {
          "base_uri": "https://localhost:8080/",
          "height": 265
        },
        "id": "7vJLBLkI61bn",
        "outputId": "d5149ee6-cb4a-4a13-cf21-f60e6c6432bc"
      },
      "source": [
        "EPOCHS = 50\r\n",
        "noise_dim = 100\r\n",
        "num_examples_to_generate = 16\r\n",
        "\r\n",
        "# We will reuse this seed overtime (so it's easier)\r\n",
        "# to visualize progress in the animated GIF)\r\n",
        "seed = tf.random.normal([num_examples_to_generate, noise_dim])\r\n",
        "# Notice the use of `tf.function`\r\n",
        "# This annotation causes the function to be \"compiled\".\r\n",
        "@tf.function\r\n",
        "def train_step(images):\r\n",
        "    noise = tf.random.normal([BATCH_SIZE, noise_dim])\r\n",
        "\r\n",
        "    with tf.GradientTape() as gen_tape, tf.GradientTape() as disc_tape:\r\n",
        "      generated_images = generator(noise, training=True)\r\n",
        "\r\n",
        "      real_output = discriminator(images, training=True)\r\n",
        "      fake_output = discriminator(generated_images, training=True)\r\n",
        "\r\n",
        "      gen_loss = generator_loss(fake_output)\r\n",
        "      disc_loss = discriminator_loss(real_output, fake_output)\r\n",
        "\r\n",
        "    gradients_of_generator = gen_tape.gradient(gen_loss, generator.trainable_variables)\r\n",
        "    gradients_of_discriminator = disc_tape.gradient(disc_loss, discriminator.trainable_variables)\r\n",
        "\r\n",
        "    generator_optimizer.apply_gradients(zip(gradients_of_generator, generator.trainable_variables))\r\n",
        "    discriminator_optimizer.apply_gradients(zip(gradients_of_discriminator, discriminator.trainable_variables))\r\n",
        "def train(dataset, epochs):\r\n",
        "  for epoch in range(epochs):\r\n",
        "    start = time.time()\r\n",
        "\r\n",
        "    for image_batch in dataset:\r\n",
        "      train_step(image_batch)\r\n",
        "\r\n",
        "    # Produce images for the GIF as we go\r\n",
        "    display.clear_output(wait=True)\r\n",
        "    generate_and_save_images(generator,\r\n",
        "                             epoch + 1,\r\n",
        "                             seed)\r\n",
        "\r\n",
        "    # Save the model every 15 epochs\r\n",
        "    if (epoch + 1) % 15 == 0:\r\n",
        "      checkpoint.save(file_prefix = checkpoint_prefix)\r\n",
        "\r\n",
        "    print ('Time for epoch {} is {} sec'.format(epoch + 1, time.time()-start))\r\n",
        "\r\n",
        "  # Generate after the final epoch\r\n",
        "  display.clear_output(wait=True)\r\n",
        "  generate_and_save_images(generator,\r\n",
        "                           epochs,\r\n",
        "                           seed)\r\n",
        "def generate_and_save_images(model, epoch, test_input):\r\n",
        "  # Notice `training` is set to False.\r\n",
        "  # This is so all layers run in inference mode (batchnorm).\r\n",
        "  predictions = model(test_input, training=False)\r\n",
        "\r\n",
        "  fig = plt.figure(figsize=(4,4))\r\n",
        "\r\n",
        "  for i in range(predictions.shape[0]):\r\n",
        "      plt.subplot(4, 4, i+1)\r\n",
        "      plt.imshow(predictions[i, :, :, 0] * 127.5 + 127.5, cmap='gray')\r\n",
        "      plt.axis('off')\r\n",
        "\r\n",
        "  plt.savefig('image_at_epoch_{:04d}.png'.format(epoch))\r\n",
        "  plt.show()\r\n",
        "train(train_dataset, EPOCHS)\r\n"
      ],
      "execution_count": null,
      "outputs": [
        {
          "output_type": "display_data",
          "data": {
            "image/png": "[encoded data removed]",
            "text/plain": [
              "<Figure size 288x288 with 16 Axes>"
            ]
          },
          "metadata": {
            "tags": [],
            "needs_background": "light"
          }
        },
        {
          "output_type": "stream",
          "text": [
            "Time for epoch 37 is 735.4257848262787 sec\n"
          ],
          "name": "stdout"
        }
      ]
    }
  ]
}